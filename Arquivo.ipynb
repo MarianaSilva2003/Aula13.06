{
 "cells": [
  {
   "cell_type": "markdown",
   "id": "3ba8a963-aa3a-400d-ac3d-cf3edab0a4b8",
   "metadata": {},
   "source": [
    "# ANÁLISE DE ABASTECIMENTO "
   ]
  },
  {
   "cell_type": "raw",
   "id": "46a05dc2-604d-4234-b631-5da5975839bd",
   "metadata": {},
   "source": [
    "---\n",
    "title: \"Abastecimento\"\n",
    "author: \"Mariana Silva\"\n",
    "date: \"20 de junho de 2023\"\n",
    "lang: pt\n",
    "format: \n",
    "  html:\n",
    "    code-tools: true\n",
    "    code-fold: true\n",
    "    default-image-extension: png\n",
    "    page-layout: full\n",
    "jupyter: python3\n",
    "---"
   ]
  },
  {
   "cell_type": "markdown",
   "id": "abe8f3fd-5097-4a2a-98d8-15e319337c85",
   "metadata": {},
   "source": [
    "### Análise de Abastecimento\n",
    "\n",
    "Importação dos dados do arquivo projetos.csv utilizando o pacote pandas. Apresentação dos dados na @tbl-combust"
   ]
  },
  {
   "cell_type": "code",
   "execution_count": 4,
   "id": "228d352b-bd0d-40eb-b49b-a89d07e5395e",
   "metadata": {},
   "outputs": [],
   "source": [
    "# aciona o pacote pandas e cria um alias (apelido) para facilitar\n",
    "import pandas as pd  "
   ]
  },
  {
   "cell_type": "code",
   "execution_count": 61,
   "id": "523d2153-3bf6-4dd9-89c8-e8569d84b47b",
   "metadata": {},
   "outputs": [
    {
     "data": {
      "text/html": [
       "<div>\n",
       "<style scoped>\n",
       "    .dataframe tbody tr th:only-of-type {\n",
       "        vertical-align: middle;\n",
       "    }\n",
       "\n",
       "    .dataframe tbody tr th {\n",
       "        vertical-align: top;\n",
       "    }\n",
       "\n",
       "    .dataframe thead th {\n",
       "        text-align: right;\n",
       "    }\n",
       "</style>\n",
       "<table border=\"1\" class=\"dataframe\">\n",
       "  <thead>\n",
       "    <tr style=\"text-align: right;\">\n",
       "      <th></th>\n",
       "      <th>DATA</th>\n",
       "      <th>REAIS LITRO</th>\n",
       "      <th>KM</th>\n",
       "      <th>LITROS</th>\n",
       "      <th>TOTAL REAIS</th>\n",
       "      <th>KM rodados</th>\n",
       "    </tr>\n",
       "  </thead>\n",
       "  <tbody>\n",
       "    <tr>\n",
       "      <th>0</th>\n",
       "      <td>17/12/2022</td>\n",
       "      <td>5,35</td>\n",
       "      <td>213637</td>\n",
       "      <td>44,84</td>\n",
       "      <td>239,93</td>\n",
       "      <td>0</td>\n",
       "    </tr>\n",
       "    <tr>\n",
       "      <th>1</th>\n",
       "      <td>04/01/2023</td>\n",
       "      <td>5,29</td>\n",
       "      <td>213936</td>\n",
       "      <td>22,31</td>\n",
       "      <td>118,06</td>\n",
       "      <td>299</td>\n",
       "    </tr>\n",
       "    <tr>\n",
       "      <th>2</th>\n",
       "      <td>08/01/2023</td>\n",
       "      <td>5,29</td>\n",
       "      <td>214202</td>\n",
       "      <td>20,25</td>\n",
       "      <td>107,15</td>\n",
       "      <td>266</td>\n",
       "    </tr>\n",
       "    <tr>\n",
       "      <th>3</th>\n",
       "      <td>15/01/2023</td>\n",
       "      <td>4,89</td>\n",
       "      <td>214392</td>\n",
       "      <td>14,45</td>\n",
       "      <td>70,68</td>\n",
       "      <td>190</td>\n",
       "    </tr>\n",
       "    <tr>\n",
       "      <th>4</th>\n",
       "      <td>22/01/2023</td>\n",
       "      <td>4,89</td>\n",
       "      <td>214655</td>\n",
       "      <td>19,79</td>\n",
       "      <td>96,77</td>\n",
       "      <td>263</td>\n",
       "    </tr>\n",
       "  </tbody>\n",
       "</table>\n",
       "</div>"
      ],
      "text/plain": [
       "         DATA REAIS LITRO      KM LITROS TOTAL REAIS  KM rodados\n",
       "0  17/12/2022        5,35  213637  44,84      239,93           0\n",
       "1  04/01/2023        5,29  213936  22,31      118,06         299\n",
       "2  08/01/2023        5,29  214202  20,25      107,15         266\n",
       "3  15/01/2023        4,89  214392  14,45       70,68         190\n",
       "4  22/01/2023        4,89  214655  19,79       96,77         263"
      ]
     },
     "execution_count": 61,
     "metadata": {},
     "output_type": "execute_result"
    }
   ],
   "source": [
    "#| label: tbl-combust\n",
    "#| echo: false\n",
    "#| tbl-cap: \"Dados de Abastecimento\"\n",
    "\n",
    "\n",
    "arquivo = \"Downloads\\Gasolina.csv\"  # abrir arquivo csv\n",
    "df = pd.read_csv(arquivo, sep=';')  # importa dados para a variável df usando a função read_csv\n",
    "df.head()  # ler as primeiras linhas da dataset (padrão de 5 primeiras linhas)"
   ]
  },
  {
   "cell_type": "code",
   "execution_count": 5,
   "id": "b2f70cd0-88b6-46f2-832a-935573ba5a93",
   "metadata": {},
   "outputs": [],
   "source": [
    "#### FUNÇÃO CRIADA "
   ]
  },
  {
   "cell_type": "code",
   "execution_count": 4,
   "id": "7b4837b4-0745-427c-b3eb-c8d461645d2d",
   "metadata": {},
   "outputs": [
    {
     "name": "stdout",
     "output_type": "stream",
     "text": [
      "Valor dos KMs rodados:\n",
      "13.590909090909092\n"
     ]
    }
   ],
   "source": [
    "# exemplo de função criada para multiplicação\n",
    "def KM_RODADOS(km, litros): # função que executa a partir de dois parâmetros\n",
    "    percurso = km / litros  # Esta é uma variável local, que assume a multiplicação dos parâmetros\n",
    "    print(percurso) # a função irá imprimir o resultado da função\n",
    "\n",
    "print (\"Valor dos KMs rodados:\")\n",
    "KM_RODADOS (299, 22)"
   ]
  },
  {
   "cell_type": "markdown",
   "id": "e6da0cb7-5dfb-40a8-a5f6-00005480ed29",
   "metadata": {},
   "source": [
    "#### ESTRUTURA DE REPETIÇÃO PARA SELECIONAR OS MESES COM MAIS KILOMETROS RODADOS"
   ]
  },
  {
   "cell_type": "code",
   "execution_count": 84,
   "id": "1a8037aa-0c9c-48c0-804f-2216e8b87a33",
   "metadata": {},
   "outputs": [
    {
     "name": "stdout",
     "output_type": "stream",
     "text": [
      "299\n",
      "266\n",
      "263\n",
      "439\n",
      "333\n",
      "256\n",
      "269\n"
     ]
    }
   ],
   "source": [
    "## ESTRUTURA DE REPETIÇÃO PARA SELECIONAR OS MESES COM MAIS KILOMETROS RODADOS\n",
    "total =   list(df['KM rodados'])\n",
    "resultado = []\n",
    "for dados in total:\n",
    "    if dados > 250:\n",
    "        resultado.append (dados)\n",
    "        print (dados)  \n"
   ]
  },
  {
   "cell_type": "code",
   "execution_count": 85,
   "id": "e89740b2-f97e-4e60-8761-8020d720c72c",
   "metadata": {},
   "outputs": [
    {
     "name": "stdout",
     "output_type": "stream",
     "text": [
      "[299, 266, 263, 439, 333, 256, 269]\n"
     ]
    }
   ],
   "source": [
    "print (resultado)"
   ]
  },
  {
   "cell_type": "code",
   "execution_count": 86,
   "id": "0cfa22da-35b0-4b94-b532-7dc885b05778",
   "metadata": {},
   "outputs": [
    {
     "data": {
      "text/plain": [
       "2125"
      ]
     },
     "execution_count": 86,
     "metadata": {},
     "output_type": "execute_result"
    }
   ],
   "source": [
    "sum (resultado)"
   ]
  },
  {
   "cell_type": "code",
   "execution_count": 68,
   "id": "e5707980-0ba3-4c07-aa6a-c61a338922f8",
   "metadata": {},
   "outputs": [
    {
     "data": {
      "text/plain": [
       "[(0, '44,84'),\n",
       " (299, '22,31'),\n",
       " (266, '20,25'),\n",
       " (190, '14,45'),\n",
       " (263, '19,79'),\n",
       " (439, '33,51'),\n",
       " (218, '17,73'),\n",
       " (219, '16,78'),\n",
       " (171, '11,32'),\n",
       " (242, '17,37'),\n",
       " (229, '17,04'),\n",
       " (333, '28,06'),\n",
       " (256, '19,45'),\n",
       " (235, '19,85'),\n",
       " (166, '14,76'),\n",
       " (198, '15,7'),\n",
       " (198, '16,12'),\n",
       " (236, '19,7'),\n",
       " (187, '14,3'),\n",
       " (269, '21,59'),\n",
       " (240, '18,96'),\n",
       " (216, '17,62'),\n",
       " (226, '17,65'),\n",
       " (124, '10,48'),\n",
       " (221, '17,47')]"
      ]
     },
     "execution_count": 68,
     "metadata": {},
     "output_type": "execute_result"
    }
   ],
   "source": [
    "# Criando duas listas\n",
    "KM = list(df['KM rodados'])\n",
    "LITROS = list(df['LITROS'])\n",
    "\n",
    "# utilizando função zip() para agrupar as duas listas e salvar resultado em formato lista\n",
    "list(zip(KM,LITROS)) "
   ]
  }
 ],
 "metadata": {
  "kernelspec": {
   "display_name": "Python 3 (ipykernel)",
   "language": "python",
   "name": "python3"
  },
  "language_info": {
   "codemirror_mode": {
    "name": "ipython",
    "version": 3
   },
   "file_extension": ".py",
   "mimetype": "text/x-python",
   "name": "python",
   "nbconvert_exporter": "python",
   "pygments_lexer": "ipython3",
   "version": "3.10.9"
  }
 },
 "nbformat": 4,
 "nbformat_minor": 5
}
